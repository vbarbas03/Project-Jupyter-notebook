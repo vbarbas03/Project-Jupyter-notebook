{
 "cells": [
  {
   "cell_type": "code",
   "execution_count": 70,
   "id": "49bfee9c-05e2-465b-8b9a-5f001e9c7f69",
   "metadata": {},
   "outputs": [
    {
     "name": "stdout",
     "output_type": "stream",
     "text": [
      "welcome\n",
      "press any letter to continue\n"
     ]
    },
    {
     "name": "stdin",
     "output_type": "stream",
     "text": [
      " m\n"
     ]
    },
    {
     "name": "stdout",
     "output_type": "stream",
     "text": [
      "type in your password\n",
      "hint: password is the developer first name\n"
     ]
    },
    {
     "name": "stdin",
     "output_type": "stream",
     "text": [
      " victory\n"
     ]
    },
    {
     "name": "stdout",
     "output_type": "stream",
     "text": [
      "congratulation you are in\n"
     ]
    }
   ],
   "source": [
    "print(\"welcome\")\n",
    "print('press any letter to continue')\n",
    "input()== 'victory'\n",
    "print(\"type in your password\")\n",
    "print('hint: password is the developer first name')\n",
    "typedPassword = \"victory\"\n",
    "savedpassword = input()\n",
    "if typedPassword==savedpassword:\n",
    "    print('congratulation you are in')\n",
    "else: \n",
    "    print('invalid password')"
   ]
  },
  {
   "cell_type": "code",
   "execution_count": null,
   "id": "51f1f9af-c59d-471a-a129-e3d87b2aeeca",
   "metadata": {},
   "outputs": [],
   "source": []
  }
 ],
 "metadata": {
  "kernelspec": {
   "display_name": "Python 3 (ipykernel)",
   "language": "python",
   "name": "python3"
  },
  "language_info": {
   "codemirror_mode": {
    "name": "ipython",
    "version": 3
   },
   "file_extension": ".py",
   "mimetype": "text/x-python",
   "name": "python",
   "nbconvert_exporter": "python",
   "pygments_lexer": "ipython3",
   "version": "3.12.6"
  }
 },
 "nbformat": 4,
 "nbformat_minor": 5
}
